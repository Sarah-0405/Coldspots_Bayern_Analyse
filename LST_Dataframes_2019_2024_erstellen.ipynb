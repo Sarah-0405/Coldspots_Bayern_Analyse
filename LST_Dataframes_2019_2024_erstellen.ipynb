{
  "nbformat": 4,
  "nbformat_minor": 0,
  "metadata": {
    "colab": {
      "provenance": [],
      "authorship_tag": "ABX9TyOaX5/VF2nRBiNRFsKU9kDZ",
      "include_colab_link": true
    },
    "kernelspec": {
      "name": "python3",
      "display_name": "Python 3"
    },
    "language_info": {
      "name": "python"
    }
  },
  "cells": [
    {
      "cell_type": "markdown",
      "metadata": {
        "id": "view-in-github",
        "colab_type": "text"
      },
      "source": [
        "<a href=\"https://colab.research.google.com/github/Sarah-0405/Coldspots_Bayern_Analyse/blob/main/LST_Dataframes_2019_2024_erstellen.ipynb\" target=\"_parent\"><img src=\"https://colab.research.google.com/assets/colab-badge.svg\" alt=\"Open In Colab\"/></a>"
      ]
    },
    {
      "cell_type": "code",
      "source": [
        "from google.colab import drive\n",
        "drive.mount('/content/drive')"
      ],
      "metadata": {
        "id": "V35cSQd_lNZZ",
        "colab": {
          "base_uri": "https://localhost:8080/"
        },
        "outputId": "910982be-7774-49c2-b1bf-8127fe6e0d1e"
      },
      "execution_count": 1,
      "outputs": [
        {
          "output_type": "stream",
          "name": "stdout",
          "text": [
            "Mounted at /content/drive\n"
          ]
        }
      ]
    },
    {
      "cell_type": "markdown",
      "source": [
        "GEE Account und angelegtes Projekt erforderlich für Landsat-Daten-Bezug"
      ],
      "metadata": {
        "id": "j4TcQSTbF9gH"
      }
    },
    {
      "cell_type": "code",
      "source": [
        "# Importieren Sie notwendige Bibliotheken\n",
        "import ee"
      ],
      "metadata": {
        "id": "4EZLtoHylSlE"
      },
      "execution_count": 3,
      "outputs": []
    },
    {
      "cell_type": "code",
      "source": [
        "ee.Authenticate()\n",
        "ee.Initialize(project=\"ee-sarahheinz0405\")"
      ],
      "metadata": {
        "id": "pmu2Mae-lQKm",
        "colab": {
          "base_uri": "https://localhost:8080/",
          "height": 16
        },
        "outputId": "27c17239-51e8-4862-eb01-9527f2dcc12a"
      },
      "execution_count": 5,
      "outputs": [
        {
          "output_type": "display_data",
          "data": {
            "text/plain": [
              "<IPython.core.display.HTML object>"
            ],
            "text/html": [
              "\n",
              "            <style>\n",
              "                .geemap-dark {\n",
              "                    --jp-widgets-color: white;\n",
              "                    --jp-widgets-label-color: white;\n",
              "                    --jp-ui-font-color1: white;\n",
              "                    --jp-layout-color2: #454545;\n",
              "                    background-color: #383838;\n",
              "                }\n",
              "\n",
              "                .geemap-dark .jupyter-button {\n",
              "                    --jp-layout-color3: #383838;\n",
              "                }\n",
              "\n",
              "                .geemap-colab {\n",
              "                    background-color: var(--colab-primary-surface-color, white);\n",
              "                }\n",
              "\n",
              "                .geemap-colab .jupyter-button {\n",
              "                    --jp-layout-color3: var(--colab-primary-surface-color, white);\n",
              "                }\n",
              "            </style>\n",
              "            "
            ]
          },
          "metadata": {}
        }
      ]
    },
    {
      "cell_type": "code",
      "source": [
        "!pip install pysal"
      ],
      "metadata": {
        "id": "iQ16Du2Nlc0u"
      },
      "execution_count": null,
      "outputs": []
    },
    {
      "cell_type": "markdown",
      "source": [
        "# LST-Dataframes erstellen"
      ],
      "metadata": {
        "id": "qgnEFI2HFg42"
      }
    },
    {
      "cell_type": "markdown",
      "source": [
        "wichtig: Wolkenmaskierung und Funktion für Umrechnung der LST"
      ],
      "metadata": {
        "id": "g-H2CBE2GHA7"
      }
    },
    {
      "cell_type": "markdown",
      "source": [
        "dataframes erstellen, die für jede Stadt die Pixelkoordinaten mitsamt deren LST-Wert enthalten\n",
        "- für jedes Jahr\n",
        "- für den 6-Jahres-Durchschnitt"
      ],
      "metadata": {
        "id": "kHZmymmgutk4"
      }
    },
    {
      "cell_type": "markdown",
      "source": [
        "aufgrund vorheriger Analyse wurde Cloud Cover threshold von <10% gewählt"
      ],
      "metadata": {
        "id": "hIL_9Y4Ujh9M"
      }
    },
    {
      "cell_type": "code",
      "source": [
        "import geopandas as gpd\n",
        "from shapely.geometry import mapping, Point\n",
        "import pandas as pd"
      ],
      "metadata": {
        "colab": {
          "base_uri": "https://localhost:8080/",
          "height": 16
        },
        "id": "S3CeammbmPmj",
        "outputId": "29a936a7-bdcc-4957-8214-1d56d902b4ad"
      },
      "execution_count": 8,
      "outputs": [
        {
          "output_type": "display_data",
          "data": {
            "text/plain": [
              "<IPython.core.display.HTML object>"
            ],
            "text/html": [
              "\n",
              "            <style>\n",
              "                .geemap-dark {\n",
              "                    --jp-widgets-color: white;\n",
              "                    --jp-widgets-label-color: white;\n",
              "                    --jp-ui-font-color1: white;\n",
              "                    --jp-layout-color2: #454545;\n",
              "                    background-color: #383838;\n",
              "                }\n",
              "\n",
              "                .geemap-dark .jupyter-button {\n",
              "                    --jp-layout-color3: #383838;\n",
              "                }\n",
              "\n",
              "                .geemap-colab {\n",
              "                    background-color: var(--colab-primary-surface-color, white);\n",
              "                }\n",
              "\n",
              "                .geemap-colab .jupyter-button {\n",
              "                    --jp-layout-color3: var(--colab-primary-surface-color, white);\n",
              "                }\n",
              "            </style>\n",
              "            "
            ]
          },
          "metadata": {}
        }
      ]
    },
    {
      "source": [
        "# Laden Sie die Geometrien der Städte\n",
        "staedte_ueber_50tsd_polygone = gpd.read_file(\"/content/drive/MyDrive/Cold Spots Bayern/grenzen_ueber_50tsd.gpkg\")\n",
        "\n",
        "# Definieren Sie die Jahre und den Zeitraum (Juni bis August)\n",
        "years = range(2019, 2025) # Jahre 2019 bis einschließlich 2024\n",
        "cloud_cover_threshold = 10\n",
        "\n",
        "# Liste zum Speichern der GeoDataFrames für jede Stadt\n",
        "all_cities_pixel_gdfs = []\n",
        "\n",
        "# Funktion zur Wolkenmaskierung\n",
        "def maskClouds(image):\n",
        "    qa_band = image.select('QA_PIXEL')\n",
        "    cloud_shadow_bitmask = (1 << 4)\n",
        "    cloud_bitmask = (1 << 3)\n",
        "    mask = qa_band.bitwiseAnd(cloud_shadow_bitmask).eq(0).And(\n",
        "           qa_band.bitwiseAnd(cloud_bitmask).eq(0))\n",
        "    return image.updateMask(mask)\n",
        "\n",
        "# Funktion zur Berechnung der LST\n",
        "def calculateLST(image):\n",
        "    kelvin = image.select('ST_B10').multiply(0.00341802).add(149.0)\n",
        "    lst_celsius = kelvin.subtract(273.15).rename('LST_Celsius')\n",
        "    return image.addBands(lst_celsius)\n",
        "\n",
        "# Funktion zum Extrahieren der Pixeldaten für eine einzelne Szene\n",
        "def extract_pixels_from_image(image, region, current_year, city_name):\n",
        "    try:\n",
        "        scene_date = ee.Date(image.get('system:time_start')).format('YYYY-MM-dd').getInfo()\n",
        "        # print(f\"  Verarbeite Szene für {city_name} vom {scene_date}\")\n",
        "\n",
        "        masked_lst = image.select('LST_Celsius')\n",
        "        mask = masked_lst.mask()\n",
        "        lonLat_image = ee.Image.pixelLonLat()\n",
        "        masked_lonLat = lonLat_image.updateMask(mask)\n",
        "        array_image = masked_lst.addBands(masked_lonLat)\n",
        "\n",
        "        pixel_data = array_image.reduceRegion(\n",
        "            reducer=ee.Reducer.toList(),\n",
        "            geometry=region,\n",
        "            scale=30,\n",
        "            maxPixels=1e9\n",
        "        )\n",
        "\n",
        "        pixel_data_info = pixel_data.getInfo()\n",
        "\n",
        "        lst_values = pixel_data_info.get('LST_Celsius', [])\n",
        "        lats = pixel_data_info.get('latitude', [])\n",
        "        lons = pixel_data_info.get('longitude', [])\n",
        "\n",
        "        if not lst_values or not lats or not lons or len(lst_values) != len(lats) or len(lst_values) != len(lons):\n",
        "            print(f\"    Warnung: Keine oder inkonsistente Pixeldaten für {city_name}, Jahr {current_year}, Szene {scene_date}. Skipping.\")\n",
        "            return []\n",
        "\n",
        "        pixel_list = []\n",
        "        for j in range(len(lst_values)):\n",
        "            pixel_list.append({\n",
        "                'city': city_name, # Stadtname hinzufügen\n",
        "                'LST_Celsius': lst_values[j],\n",
        "                'longitude': lons[j],\n",
        "                'latitude': lats[j],\n",
        "                'year': current_year,\n",
        "                'scene_date': scene_date\n",
        "            })\n",
        "        return pixel_list\n",
        "    except Exception as e:\n",
        "        print(f\"  Fehler bei der Verarbeitung der Szene für {city_name} vom {scene_date}: {e}\")\n",
        "        return []\n",
        "\n",
        "\n",
        "# Schleife über jede Stadt im GeoDataFrame\n",
        "for index, row in staedte_ueber_50tsd_polygone.iterrows():\n",
        "    city_name = row['name']\n",
        "    city_geometry_shapely = row['geometry']\n",
        "\n",
        "    # Überprüfen Sie, ob die Geometrie gültig ist\n",
        "    if not city_geometry_shapely or city_geometry_shapely.is_empty:\n",
        "        print(f\" Warnung: Ungültige oder leere Geometrie für Stadt: {city_name}. Überspringe diese Stadt.\")\n",
        "        continue\n",
        "\n",
        "    # Konvertieren Sie die Shapely-Geometrie in eine Earth Engine Geometrie\n",
        "    try:\n",
        "        city_region_ee = ee.Geometry(mapping(city_geometry_shapely))\n",
        "    except Exception as e:\n",
        "        print(f\"Fehler beim Erstellen der Earth Engine Geometrie für {city_name}: {e}. Überspringe Stadt.\")\n",
        "        continue\n",
        "\n",
        "    print(f\"\\n Verarbeitung von Landsat-Daten für Stadt: {city_name}...\")\n",
        "\n",
        "    city_pixel_data_across_years = []\n",
        "\n",
        "    # Schleife über jedes Jahr für die aktuelle Stadt\n",
        "    for year in years:\n",
        "        start_date = f'{year}-06-01'\n",
        "        end_date = f'{year}-08-31'\n",
        "\n",
        "        try:\n",
        "            # Filtern, Maskieren und LST berechnen\n",
        "            landsat_collection = ee.ImageCollection('LANDSAT/LC08/C02/T1_L2') \\\n",
        "                .filterDate(start_date, end_date) \\\n",
        "                .filterBounds(city_region_ee) \\\n",
        "                .filter(ee.Filter.lt('CLOUD_COVER', cloud_cover_threshold)) \\\n",
        "                .map(maskClouds) \\\n",
        "                .map(calculateLST)\n",
        "\n",
        "            num_scenes = landsat_collection.size().getInfo()\n",
        "            print(f\"    Anzahl der gefundenen Szenen: {num_scenes}\") # Optional: Weniger Logs\n",
        "\n",
        "            if num_scenes > 0:\n",
        "                scenes_list = landsat_collection.toList(num_scenes)\n",
        "\n",
        "                # Extrahieren Sie Pixeldaten für jede Szene im Zeitraum\n",
        "                for i in range(num_scenes):\n",
        "                    image = ee.Image(scenes_list.get(i))\n",
        "                    current_year = year\n",
        "\n",
        "                    current_scene_pixel_data = extract_pixels_from_image(image, city_region_ee, current_year, city_name)\n",
        "                    city_pixel_data_across_years.extend(current_scene_pixel_data)\n",
        "            else:\n",
        "                print(f\"    Keine Szenen für {city_name} im Jahr {year} gefunden.\") # Optional: Weniger Logs\n",
        "\n",
        "        except Exception as e:\n",
        "            print(f\"  Fehler bei der Verarbeitung der Landsat-Collection für {city_name} im Jahr {year}: {e}\")\n",
        "\n",
        "    # Wenn Daten für die aktuelle Stadt gesammelt wurden, erstellen Sie den GeoDataFrame\n",
        "    if city_pixel_data_across_years:\n",
        "        df_city_pixels_all_years = pd.DataFrame(city_pixel_data_across_years)\n",
        "\n",
        "        # Erstellen Sie die Geometrie-Spalte\n",
        "        geometry_all_years = [Point(xy) for xy in zip(df_city_pixels_all_years['longitude'], df_city_pixels_all_years['latitude'])]\n",
        "        gdf_city_pixels_all_years = gpd.GeoDataFrame(df_city_pixels_all_years, geometry=geometry_all_years)\n",
        "        gdf_city_pixels_all_years.crs = \"EPSG:4326\" # Setzen Sie das CRS\n",
        "\n",
        "        print(f\"\\nGeoDataFrame für {city_name} mit Pixel-LST für alle Jahre (2019-2024) erstellt. Enthält {len(gdf_city_pixels_all_years)} Pixel.\")\n",
        "        # display(gdf_city_pixels_all_years.head()) # Optional: Die ersten Zeilen anzeigen\n",
        "\n",
        "        # Füge den erstellten GeoDataFrame der Liste hinzu\n",
        "        all_cities_pixel_gdfs.append(gdf_city_pixels_all_years)\n",
        "\n",
        "        #  Speichern Sie den GeoDataFrame für jede Stadt einzeln\n",
        "        #output_city_geojson_path = f\"/content/drive/MyDrive/Cold Spots Bayern/{city_name.replace(' ', '_')}_pixels_lst_2019_2024.geojson\"\n",
        "        #try:\n",
        "             #gdf_city_pixels_all_years.to_file(output_city_geojson_path, driver='GeoJSON')\n",
        "             #print(f\"  GeoDataFrame für {city_name} wurde gespeichert unter: {output_city_geojson_path}\")\n",
        "        #except Exception as e:\n",
        "             #print(f\"  Fehler beim Speichern des GeoDataFrames für {city_name}: {e}\")\n",
        "\n",
        "    else:\n",
        "        print(f\"Keine Pixeldaten für Stadt {city_name} gefunden.\")\n"
      ],
      "cell_type": "code",
      "metadata": {
        "colab": {
          "base_uri": "https://localhost:8080/",
          "height": 1000
        },
        "id": "V8gaLLW_6BaF",
        "outputId": "483fae20-c01c-40e6-f7b6-31e6211add06"
      },
      "execution_count": 9,
      "outputs": [
        {
          "output_type": "display_data",
          "data": {
            "text/plain": [
              "<IPython.core.display.HTML object>"
            ],
            "text/html": [
              "\n",
              "            <style>\n",
              "                .geemap-dark {\n",
              "                    --jp-widgets-color: white;\n",
              "                    --jp-widgets-label-color: white;\n",
              "                    --jp-ui-font-color1: white;\n",
              "                    --jp-layout-color2: #454545;\n",
              "                    background-color: #383838;\n",
              "                }\n",
              "\n",
              "                .geemap-dark .jupyter-button {\n",
              "                    --jp-layout-color3: #383838;\n",
              "                }\n",
              "\n",
              "                .geemap-colab {\n",
              "                    background-color: var(--colab-primary-surface-color, white);\n",
              "                }\n",
              "\n",
              "                .geemap-colab .jupyter-button {\n",
              "                    --jp-layout-color3: var(--colab-primary-surface-color, white);\n",
              "                }\n",
              "            </style>\n",
              "            "
            ]
          },
          "metadata": {}
        },
        {
          "output_type": "stream",
          "name": "stdout",
          "text": [
            "\n",
            " Verarbeitung von Landsat-Daten für Stadt: Munich...\n",
            "    Anzahl der gefundenen Szenen: 6\n",
            "    Anzahl der gefundenen Szenen: 4\n",
            "    Anzahl der gefundenen Szenen: 1\n",
            "    Anzahl der gefundenen Szenen: 6\n",
            "    Anzahl der gefundenen Szenen: 3\n",
            "    Anzahl der gefundenen Szenen: 3\n",
            "\n",
            "GeoDataFrame für Munich mit Pixel-LST für alle Jahre (2019-2024) erstellt. Enthält 6733177 Pixel.\n",
            "\n",
            " Verarbeitung von Landsat-Daten für Stadt: Nuremberg...\n",
            "    Anzahl der gefundenen Szenen: 5\n"
          ]
        },
        {
          "output_type": "stream",
          "name": "stderr",
          "text": [
            "WARNING:googleapiclient.http:Sleeping 0.03 seconds before retry 1 of 5 for request: POST https://earthengine.googleapis.com/v1/projects/ee-sarahheinz0405/value:compute?prettyPrint=false&alt=json, after 503\n"
          ]
        },
        {
          "output_type": "stream",
          "name": "stdout",
          "text": [
            "    Anzahl der gefundenen Szenen: 4\n",
            "    Anzahl der gefundenen Szenen: 2\n",
            "    Anzahl der gefundenen Szenen: 5\n",
            "    Anzahl der gefundenen Szenen: 1\n",
            "    Anzahl der gefundenen Szenen: 2\n",
            "\n",
            "GeoDataFrame für Nuremberg mit Pixel-LST für alle Jahre (2019-2024) erstellt. Enthält 3691492 Pixel.\n",
            "\n",
            " Verarbeitung von Landsat-Daten für Stadt: Augsburg...\n",
            "    Anzahl der gefundenen Szenen: 7\n",
            "    Anzahl der gefundenen Szenen: 4\n",
            "    Anzahl der gefundenen Szenen: 2\n",
            "    Anzahl der gefundenen Szenen: 7\n",
            "    Anzahl der gefundenen Szenen: 2\n",
            "    Anzahl der gefundenen Szenen: 2\n",
            "\n",
            "GeoDataFrame für Augsburg mit Pixel-LST für alle Jahre (2019-2024) erstellt. Enthält 3432603 Pixel.\n",
            "\n",
            " Verarbeitung von Landsat-Daten für Stadt: Regensburg...\n",
            "    Anzahl der gefundenen Szenen: 4\n",
            "    Anzahl der gefundenen Szenen: 3\n",
            "    Anzahl der gefundenen Szenen: 1\n",
            "    Anzahl der gefundenen Szenen: 3\n",
            "    Anzahl der gefundenen Szenen: 2\n",
            "    Anzahl der gefundenen Szenen: 2\n",
            "\n",
            "GeoDataFrame für Regensburg mit Pixel-LST für alle Jahre (2019-2024) erstellt. Enthält 1239163 Pixel.\n",
            "\n",
            " Verarbeitung von Landsat-Daten für Stadt: Ingolstadt...\n",
            "    Anzahl der gefundenen Szenen: 5\n",
            "    Anzahl der gefundenen Szenen: 3\n",
            "    Anzahl der gefundenen Szenen: 2\n",
            "    Anzahl der gefundenen Szenen: 4\n",
            "    Anzahl der gefundenen Szenen: 1\n",
            "    Anzahl der gefundenen Szenen: 1\n",
            "\n",
            "GeoDataFrame für Ingolstadt mit Pixel-LST für alle Jahre (2019-2024) erstellt. Enthält 1869768 Pixel.\n",
            "\n",
            " Verarbeitung von Landsat-Daten für Stadt: Würzburg...\n",
            "    Anzahl der gefundenen Szenen: 3\n",
            "    Anzahl der gefundenen Szenen: 3\n",
            "    Anzahl der gefundenen Szenen: 2\n",
            "    Anzahl der gefundenen Szenen: 2\n",
            "    Anzahl der gefundenen Szenen: 2\n"
          ]
        },
        {
          "output_type": "stream",
          "name": "stderr",
          "text": [
            "WARNING:googleapiclient.http:Sleeping 1.75 seconds before retry 1 of 5 for request: POST https://earthengine.googleapis.com/v1/projects/ee-sarahheinz0405/value:compute?prettyPrint=false&alt=json, after 503\n"
          ]
        },
        {
          "output_type": "stream",
          "name": "stdout",
          "text": [
            "    Anzahl der gefundenen Szenen: 2\n",
            "\n",
            "GeoDataFrame für Würzburg mit Pixel-LST für alle Jahre (2019-2024) erstellt. Enthält 887149 Pixel.\n",
            "\n",
            " Verarbeitung von Landsat-Daten für Stadt: Fürth...\n",
            "    Anzahl der gefundenen Szenen: 5\n",
            "    Anzahl der gefundenen Szenen: 4\n",
            "    Anzahl der gefundenen Szenen: 2\n",
            "    Anzahl der gefundenen Szenen: 5\n",
            "    Anzahl der gefundenen Szenen: 1\n",
            "    Anzahl der gefundenen Szenen: 2\n",
            "\n",
            "GeoDataFrame für Fürth mit Pixel-LST für alle Jahre (2019-2024) erstellt. Enthält 1072747 Pixel.\n",
            "\n",
            " Verarbeitung von Landsat-Daten für Stadt: Erlangen...\n",
            "    Anzahl der gefundenen Szenen: 7\n",
            "    Anzahl der gefundenen Szenen: 4\n",
            "    Anzahl der gefundenen Szenen: 2\n",
            "    Anzahl der gefundenen Szenen: 6\n",
            "    Anzahl der gefundenen Szenen: 2\n",
            "    Anzahl der gefundenen Szenen: 3\n",
            "\n",
            "GeoDataFrame für Erlangen mit Pixel-LST für alle Jahre (2019-2024) erstellt. Enthält 983613 Pixel.\n",
            "\n",
            " Verarbeitung von Landsat-Daten für Stadt: Bamberg...\n",
            "    Anzahl der gefundenen Szenen: 6\n",
            "    Anzahl der gefundenen Szenen: 3\n",
            "    Warnung: Keine oder inkonsistente Pixeldaten für Bamberg, Jahr 2020, Szene 2020-07-28. Skipping.\n",
            "    Anzahl der gefundenen Szenen: 1\n",
            "    Anzahl der gefundenen Szenen: 5\n",
            "    Anzahl der gefundenen Szenen: 2\n",
            "    Anzahl der gefundenen Szenen: 3\n",
            "\n",
            "GeoDataFrame für Bamberg mit Pixel-LST für alle Jahre (2019-2024) erstellt. Enthält 854795 Pixel.\n",
            "\n",
            " Verarbeitung von Landsat-Daten für Stadt: Bayreuth...\n",
            "    Anzahl der gefundenen Szenen: 2\n",
            "    Anzahl der gefundenen Szenen: 1\n",
            "    Anzahl der gefundenen Szenen: 0\n",
            "    Keine Szenen für Bayreuth im Jahr 2021 gefunden.\n",
            "    Anzahl der gefundenen Szenen: 2\n",
            "    Anzahl der gefundenen Szenen: 1\n",
            "    Anzahl der gefundenen Szenen: 2\n",
            "\n",
            "GeoDataFrame für Bayreuth mit Pixel-LST für alle Jahre (2019-2024) erstellt. Enthält 593858 Pixel.\n",
            "\n",
            " Verarbeitung von Landsat-Daten für Stadt: Aschaffenburg...\n",
            "    Anzahl der gefundenen Szenen: 3\n",
            "    Warnung: Keine oder inkonsistente Pixeldaten für Aschaffenburg, Jahr 2019, Szene 2019-08-18. Skipping.\n",
            "    Anzahl der gefundenen Szenen: 3\n",
            "    Anzahl der gefundenen Szenen: 2\n",
            "    Anzahl der gefundenen Szenen: 2\n",
            "    Anzahl der gefundenen Szenen: 2\n",
            "    Anzahl der gefundenen Szenen: 2\n",
            "\n",
            "GeoDataFrame für Aschaffenburg mit Pixel-LST für alle Jahre (2019-2024) erstellt. Enthält 504285 Pixel.\n",
            "\n",
            " Verarbeitung von Landsat-Daten für Stadt: Landshut...\n",
            "    Anzahl der gefundenen Szenen: 4\n",
            "    Anzahl der gefundenen Szenen: 3\n",
            "    Anzahl der gefundenen Szenen: 1\n",
            "    Anzahl der gefundenen Szenen: 3\n",
            "    Anzahl der gefundenen Szenen: 2\n",
            "    Anzahl der gefundenen Szenen: 2\n",
            "\n",
            "GeoDataFrame für Landshut mit Pixel-LST für alle Jahre (2019-2024) erstellt. Enthält 1073919 Pixel.\n",
            "\n",
            " Verarbeitung von Landsat-Daten für Stadt: Kempten (Allgäu)...\n",
            "    Anzahl der gefundenen Szenen: 3\n",
            "    Anzahl der gefundenen Szenen: 3\n",
            "    Anzahl der gefundenen Szenen: 0\n",
            "    Keine Szenen für Kempten (Allgäu) im Jahr 2021 gefunden.\n",
            "    Anzahl der gefundenen Szenen: 6\n",
            "    Anzahl der gefundenen Szenen: 1\n",
            "    Anzahl der gefundenen Szenen: 3\n",
            "\n",
            "GeoDataFrame für Kempten (Allgäu) mit Pixel-LST für alle Jahre (2019-2024) erstellt. Enthält 1078551 Pixel.\n",
            "\n",
            " Verarbeitung von Landsat-Daten für Stadt: Rosenheim...\n",
            "    Anzahl der gefundenen Szenen: 6\n",
            "    Anzahl der gefundenen Szenen: 3\n",
            "    Anzahl der gefundenen Szenen: 1\n",
            "    Anzahl der gefundenen Szenen: 6\n",
            "    Anzahl der gefundenen Szenen: 2\n",
            "    Anzahl der gefundenen Szenen: 2\n",
            "\n",
            "GeoDataFrame für Rosenheim mit Pixel-LST für alle Jahre (2019-2024) erstellt. Enthält 431618 Pixel.\n",
            "\n",
            " Verarbeitung von Landsat-Daten für Stadt: Schweinfurt...\n",
            "    Anzahl der gefundenen Szenen: 2\n",
            "    Anzahl der gefundenen Szenen: 2\n",
            "    Anzahl der gefundenen Szenen: 1\n",
            "    Anzahl der gefundenen Szenen: 1\n",
            "    Anzahl der gefundenen Szenen: 2\n",
            "    Anzahl der gefundenen Szenen: 2\n",
            "\n",
            "GeoDataFrame für Schweinfurt mit Pixel-LST für alle Jahre (2019-2024) erstellt. Enthält 341384 Pixel.\n",
            "\n",
            " Verarbeitung von Landsat-Daten für Stadt: Passau...\n",
            "    Anzahl der gefundenen Szenen: 1\n",
            "    Anzahl der gefundenen Szenen: 4\n",
            "    Anzahl der gefundenen Szenen: 1\n",
            "    Anzahl der gefundenen Szenen: 3\n",
            "    Anzahl der gefundenen Szenen: 3\n",
            "    Anzahl der gefundenen Szenen: 1\n",
            "\n",
            "GeoDataFrame für Passau mit Pixel-LST für alle Jahre (2019-2024) erstellt. Enthält 942715 Pixel.\n"
          ]
        }
      ]
    },
    {
      "cell_type": "markdown",
      "source": [
        "läuft jetzt erfolgreich für alle Städte durch (ca. 20 min) und speichert für die Sommermonate 2019-2024 alle LST-Werte pro Pixel pro Szene in einem gdf pro Stadt"
      ],
      "metadata": {
        "id": "z_hq662MUsXJ"
      }
    },
    {
      "cell_type": "code",
      "source": [
        "cities_paths = \"/content/drive/MyDrive/Cold Spots Bayern/Aschaffenburg_pixels_lst_2019_2024.geojson\", \"/content/drive/MyDrive/Cold Spots Bayern/Augsburg_pixels_lst_2019_2024.geojson\", \"/content/drive/MyDrive/Cold Spots Bayern/Bamberg_pixels_lst_2019_2024.geojson\", \"/content/drive/MyDrive/Cold Spots Bayern/Bayreuth_pixels_lst_2019_2024.geojson\", \"/content/drive/MyDrive/Cold Spots Bayern/Erlangen_pixels_lst_2019_2024.geojson\", \"/content/drive/MyDrive/Cold Spots Bayern/Fürth_pixels_lst_2019_2024.geojson\", \"/content/drive/MyDrive/Cold Spots Bayern/Ingolstadt_pixels_lst_2019_2024.geojson\", \"/content/drive/MyDrive/Cold Spots Bayern/Kempten_(Allgäu)_pixels_lst_2019_2024.geojson\", \"/content/drive/MyDrive/Cold Spots Bayern/Landshut_pixels_lst_2019_2024.geojson\", \"/content/drive/MyDrive/Cold Spots Bayern/Munich_pixels_lst_2019_2024.geojson\", \"/content/drive/MyDrive/Cold Spots Bayern/Nuremberg_pixels_lst_2019_2024.geojson\", \"/content/drive/MyDrive/Cold Spots Bayern/Passau_pixels_lst_2019_2024.geojson\", \"/content/drive/MyDrive/Cold Spots Bayern/Regensburg_pixels_lst_2019_2024.geojson\", \"/content/drive/MyDrive/Cold Spots Bayern/Rosenheim_pixels_lst_2019_2024.geojson\", \"/content/drive/MyDrive/Cold Spots Bayern/Schweinfurt_pixels_lst_2019_2024.geojson\", \"/content/drive/MyDrive/Cold Spots Bayern/Würzburg_pixels_lst_2019_2024.geojson\""
      ],
      "metadata": {
        "id": "-1RI9B1oYMAr",
        "colab": {
          "base_uri": "https://localhost:8080/",
          "height": 16
        },
        "outputId": "965851fd-3708-4c62-8a3f-f27bac48a146"
      },
      "execution_count": 10,
      "outputs": [
        {
          "output_type": "display_data",
          "data": {
            "text/plain": [
              "<IPython.core.display.HTML object>"
            ],
            "text/html": [
              "\n",
              "            <style>\n",
              "                .geemap-dark {\n",
              "                    --jp-widgets-color: white;\n",
              "                    --jp-widgets-label-color: white;\n",
              "                    --jp-ui-font-color1: white;\n",
              "                    --jp-layout-color2: #454545;\n",
              "                    background-color: #383838;\n",
              "                }\n",
              "\n",
              "                .geemap-dark .jupyter-button {\n",
              "                    --jp-layout-color3: #383838;\n",
              "                }\n",
              "\n",
              "                .geemap-colab {\n",
              "                    background-color: var(--colab-primary-surface-color, white);\n",
              "                }\n",
              "\n",
              "                .geemap-colab .jupyter-button {\n",
              "                    --jp-layout-color3: var(--colab-primary-surface-color, white);\n",
              "                }\n",
              "            </style>\n",
              "            "
            ]
          },
          "metadata": {}
        }
      ]
    },
    {
      "cell_type": "markdown",
      "source": [
        "bisher enthalten geodataframes Daten zur jeder einzelnen Szene =>  daraus den Mittelwert pro Pixel über ganzen Sommer berechnen (pro Jahr), dann zusammenführen zu einer Datei für alle Städte"
      ],
      "metadata": {
        "id": "AUF7OjTkb0xF"
      }
    },
    {
      "source": [
        "# Die Liste der GeoJSON-Dateipfade (aus der cities_paths Zelle)\n",
        "# cities_paths = [...] # Angenommen, diese Variable ist bereits definiert\n",
        "\n",
        "# Liste zum Speichern der aggregierten GeoDataFrames für jede Stadt\n",
        "aggregated_city_gdfs = []\n",
        "\n",
        "print(\"Verarbeite jede Stadt einzeln und berechne die durchschnittliche Sommer-LST pro Pixel pro Jahr...\")\n",
        "\n",
        "# Schleife über jeden Dateipfad in der cities_paths Liste\n",
        "for file_path in cities_paths:\n",
        "    try:\n",
        "        # Lade den GeoDataFrame für die aktuelle Stadt\n",
        "        # Versuche, den Stadtnamen aus dem Dateipfad zu extrahieren\n",
        "        file_name = file_path.split('/')[-1]\n",
        "        city_name = file_name.replace(\"_pixels_lst_2019_2024.geojson\", \"\").replace(\"_\", \" \")\n",
        "\n",
        "        print(f\"\\n Verarbeite Daten für Stadt: {city_name} aus {file_name}...\")\n",
        "        gdf_city = gpd.read_file(file_path)\n",
        "        print(f\"  Geladen: {len(gdf_city)} Pixel-Szene-Einträge.\")\n",
        "\n",
        "        # Überprüfe, ob der GeoDataFrame geladen wurde und nicht leer ist\n",
        "        if not gdf_city.empty:\n",
        "            # Gruppieren Sie nach Jahr, Längengrad und Breitengrad und berechnen Sie den Durchschnitt der LST\n",
        "            # Behalten Sie 'city' als Teil der Gruppierung bei\n",
        "            aggregated_lst_city = gdf_city.groupby(\n",
        "                ['year', 'longitude', 'latitude', 'city'] # Gruppieren auch nach Stadt\n",
        "            )['LST_Celsius'].mean().reset_index()\n",
        "\n",
        "            # Benennen Sie die aggregierte Spalte um\n",
        "            aggregated_lst_city = aggregated_lst_city.rename(\n",
        "                columns={'LST_Celsius': 'avg_summer_LST_Celsius'}\n",
        "            )\n",
        "\n",
        "            # Fügen Sie die Geometrie-Spalte wieder hinzu\n",
        "            unique_pixels_geometry_city = gdf_city[['longitude', 'latitude', 'geometry']].drop_duplicates(\n",
        "                subset=['longitude', 'latitude']\n",
        "            ).set_index(['longitude', 'latitude'])\n",
        "\n",
        "            aggregated_lst_city = aggregated_lst_city.set_index(\n",
        "                ['longitude', 'latitude']\n",
        "            ).join(unique_pixels_geometry_city).reset_index()\n",
        "\n",
        "            # Konvertieren Sie das Ergebnis in einen GeoDataFrame\n",
        "            # Stellen Sie sicher, dass das CRS des ursprünglichen GeoDataFrames übernommen wird\n",
        "            if gdf_city.crs is not None:\n",
        "                gdf_avg_summer_lst_city = gpd.GeoDataFrame(\n",
        "                    aggregated_lst_city,\n",
        "                    geometry='geometry',\n",
        "                    crs=gdf_city.crs\n",
        "                )\n",
        "            else:\n",
        "                print(f\"   Warnung: Ursprüngliches CRS für {city_name} nicht gefunden. Setze Standard-CRS (EPSG:4326).\")\n",
        "                gdf_avg_summer_lst_city = gpd.GeoDataFrame(\n",
        "                    aggregated_lst_city,\n",
        "                    geometry='geometry',\n",
        "                    crs=\"EPSG:4326\"\n",
        "                )\n",
        "\n",
        "\n",
        "            print(f\"  Erstellt aggregierten GeoDataFrame für {city_name} mit {len(gdf_avg_summer_lst_city)} Pixel-Jahres-Einträgen.\")\n",
        "\n",
        "            # Fügen Sie den aggregierten GeoDataFrame der Liste hinzu\n",
        "            aggregated_city_gdfs.append(gdf_avg_summer_lst_city)\n",
        "\n",
        "\n",
        "        else:\n",
        "            print(f\"  GeoDataFrame für {city_name} war leer. Überspringe Aggregation.\")\n",
        "\n",
        "    except Exception as e:\n",
        "        print(f\"  Fehler bei der Verarbeitung der Datei {file_path}: {e}. Überspringe diese Datei.\")\n",
        "\n",
        "\n",
        "# Zusammenführen der aggregierten Stadt-GeoDataFrames\n",
        "print(\"\\n--- Zusammenführen der aggregierten Stadt-GeoDataFrames ---\")\n",
        "\n",
        "if aggregated_city_gdfs:\n",
        "    try:\n",
        "        all_cities_avg_summer_lst_per_pixel_year = pd.concat(aggregated_city_gdfs, ignore_index=True)\n",
        "\n",
        "        print(\"\\nZusammengeführter GeoDataFrame 'all_cities_avg_summer_lst_per_pixel_year' erstellt:\")\n",
        "        display(all_cities_avg_summer_lst_per_pixel_year.head())\n",
        "        print(f\"Gesamtanzahl der Pixel-Jahres-Einträge im zusammengeführten GeoDataFrame: {len(all_cities_avg_summer_lst_per_pixel_year)}\")\n",
        "\n",
        "        # Speichern des finalen zusammengeführten GeoDataFrame\n",
        "        output_final_merged_geojson_path = \"/content/drive/MyDrive/Cold Spots Bayern/all_cities_summer_avg_lst_per_pixel_allyears.geojson\"\n",
        "        try:\n",
        "             all_cities_avg_summer_lst_per_pixel_year.to_file(output_final_merged_geojson_path, driver='GeoJSON')\n",
        "             print(f\"\\nFinaler zusammengeführter GeoDataFrame wurde gespeichert unter: {output_final_merged_geojson_path}\")\n",
        "        except Exception as e:\n",
        "             print(f\"\\nFehler beim Speichern des finalen zusammengeführten GeoDataFrames: {e}\")\n",
        "\n",
        "    except Exception as e:\n",
        "        print(f\"Fehler beim Zusammenführen der aggregierten GeoDataFrames: {e}\")\n",
        "\n",
        "else:\n",
        "    print(\"Keine aggregierten Stadt-GeoDataFrames erstellt. Zusammenführung nicht möglich.\")\n"
      ],
      "cell_type": "code",
      "metadata": {
        "colab": {
          "base_uri": "https://localhost:8080/",
          "height": 724
        },
        "id": "M8bjmpXJdS80",
        "outputId": "04e87018-ab6d-457c-f6d2-1ee2a02b63b2"
      },
      "execution_count": null,
      "outputs": [
        {
          "output_type": "display_data",
          "data": {
            "text/plain": [
              "<IPython.core.display.HTML object>"
            ],
            "text/html": [
              "\n",
              "            <style>\n",
              "                .geemap-dark {\n",
              "                    --jp-widgets-color: white;\n",
              "                    --jp-widgets-label-color: white;\n",
              "                    --jp-ui-font-color1: white;\n",
              "                    --jp-layout-color2: #454545;\n",
              "                    background-color: #383838;\n",
              "                }\n",
              "\n",
              "                .geemap-dark .jupyter-button {\n",
              "                    --jp-layout-color3: #383838;\n",
              "                }\n",
              "\n",
              "                .geemap-colab {\n",
              "                    background-color: var(--colab-primary-surface-color, white);\n",
              "                }\n",
              "\n",
              "                .geemap-colab .jupyter-button {\n",
              "                    --jp-layout-color3: var(--colab-primary-surface-color, white);\n",
              "                }\n",
              "            </style>\n",
              "            "
            ]
          },
          "metadata": {}
        },
        {
          "output_type": "stream",
          "name": "stdout",
          "text": [
            "Verarbeite jede Stadt einzeln und berechne die durchschnittliche Sommer-LST pro Pixel pro Jahr...\n",
            "\n",
            " Verarbeite Daten für Stadt: Aschaffenburg aus Aschaffenburg_pixels_lst_2019_2024.geojson...\n",
            "  Geladen: 525955 Pixel-Szene-Einträge.\n",
            "  Erstellt aggregierten GeoDataFrame für Aschaffenburg mit 362052 Pixel-Jahres-Einträgen.\n",
            "\n",
            " Verarbeite Daten für Stadt: Augsburg aus Augsburg_pixels_lst_2019_2024.geojson...\n",
            "  Geladen: 3531413 Pixel-Szene-Einträge.\n",
            "  Erstellt aggregierten GeoDataFrame für Augsburg mit 980443 Pixel-Jahres-Einträgen.\n",
            "\n",
            " Verarbeite Daten für Stadt: Bamberg aus Bamberg_pixels_lst_2019_2024.geojson...\n",
            "  Geladen: 895498 Pixel-Szene-Einträge.\n",
            "  Erstellt aggregierten GeoDataFrame für Bamberg mit 543528 Pixel-Jahres-Einträgen.\n",
            "\n",
            " Verarbeite Daten für Stadt: Bayreuth aus Bayreuth_pixels_lst_2019_2024.geojson...\n",
            "  Geladen: 594897 Pixel-Szene-Einträge.\n",
            "  Erstellt aggregierten GeoDataFrame für Bayreuth mit 521674 Pixel-Jahres-Einträgen.\n",
            "\n",
            " Verarbeite Daten für Stadt: Erlangen aus Erlangen_pixels_lst_2019_2024.geojson...\n",
            "  Geladen: 1030334 Pixel-Szene-Einträge.\n",
            "  Erstellt aggregierten GeoDataFrame für Erlangen mit 411335 Pixel-Jahres-Einträgen.\n",
            "\n",
            " Verarbeite Daten für Stadt: Fürth aus Fürth_pixels_lst_2019_2024.geojson...\n",
            "  Geladen: 1089217 Pixel-Szene-Einträge.\n",
            "  Erstellt aggregierten GeoDataFrame für Fürth mit 359833 Pixel-Jahres-Einträgen.\n",
            "\n",
            " Verarbeite Daten für Stadt: Ingolstadt aus Ingolstadt_pixels_lst_2019_2024.geojson...\n",
            "  Geladen: 1899746 Pixel-Szene-Einträge.\n",
            "  Erstellt aggregierten GeoDataFrame für Ingolstadt mit 894355 Pixel-Jahres-Einträgen.\n",
            "\n",
            " Verarbeite Daten für Stadt: Kempten (Allgäu) aus Kempten_(Allgäu)_pixels_lst_2019_2024.geojson...\n",
            "  Geladen: 1078845 Pixel-Szene-Einträge.\n",
            "  Erstellt aggregierten GeoDataFrame für Kempten (Allgäu) mit 337194 Pixel-Jahres-Einträgen.\n",
            "\n",
            " Verarbeite Daten für Stadt: Landshut aus Landshut_pixels_lst_2019_2024.geojson...\n",
            "  Geladen: 1086242 Pixel-Szene-Einträge.\n",
            "  Erstellt aggregierten GeoDataFrame für Landshut mit 654365 Pixel-Jahres-Einträgen.\n",
            "\n",
            " Verarbeite Daten für Stadt: Munich aus Munich_pixels_lst_2019_2024.geojson...\n",
            "  Geladen: 6792879 Pixel-Szene-Einträge.\n",
            "  Erstellt aggregierten GeoDataFrame für Munich mit 2040519 Pixel-Jahres-Einträgen.\n",
            "\n",
            " Verarbeite Daten für Stadt: Nuremberg aus Nuremberg_pixels_lst_2019_2024.geojson...\n"
          ]
        }
      ]
    },
    {
      "cell_type": "markdown",
      "source": [
        "output: geojson mit den mittleren LST-Pixelwerten **für jedes Jahr** von 2019\n",
        "-2024: \"all_cities_summer_avg_lst_per_pixel_allyears.geojson\""
      ],
      "metadata": {
        "id": "_fEJwQ_vkKcA"
      }
    },
    {
      "cell_type": "markdown",
      "source": [
        "# Geodataframes für 2019-2024 sowie 2024 separat erstellen\n",
        "\n",
        "- ein gdf mit Durchschnittswerten pro Pixel für Gesamtzeitraum,\n",
        "- einer mit Durchschnittswerten für 2024"
      ],
      "metadata": {
        "id": "ln89IRQYpKcF"
      }
    },
    {
      "cell_type": "code",
      "source": [
        "# oben erstellte Datei laden (enthält noch die Werte für jedes Jahr)\n",
        "all_cities_summer_avg_lst_per_pixel = gpd.read_file(\"/content/drive/MyDrive/Cold Spots Bayern/all_cities_summer_avg_lst_per_pixel_allyears.geojson\")\n",
        "display(all_cities_summer_avg_lst_per_pixel.head())"
      ],
      "metadata": {
        "id": "8bETJFtlpW5-"
      },
      "execution_count": null,
      "outputs": []
    },
    {
      "cell_type": "code",
      "source": [
        "# 1. Geodataframe 2019-2024 erstellen\n",
        "\n",
        "# Gruppierung und Mittelwertbildung\n",
        "# Gruppieren nach 'city' und 'geometry' und berechnen des Mittelwerts für 'avg_summer_LST_Celsius'\n",
        "# 'geometry' als Index, um die Gruppierung zu vereinfachen und dann zurückzusetzen\n",
        "averaged_lst_per_pixel_per_city = all_cities_summer_avg_lst_per_pixel.set_index('geometry').groupby(['city', 'geometry'])['avg_summer_LST_Celsius'].mean().reset_index()\n",
        "\n",
        "# Verwenden Sie das CRS des ursprünglichen GeoDataFrames\n",
        "original_crs = all_cities_summer_avg_lst_per_pixel.crs\n",
        "\n",
        "averaged_lst_per_pixel_per_city = gpd.GeoDataFrame(\n",
        "    averaged_lst_per_pixel_per_city,\n",
        "    geometry='geometry',\n",
        "    crs=original_crs\n",
        ")\n",
        "\n",
        "print(\"Mittelwert der LST pro Pixel pro Stadt über alle Jahre berechnet.\")\n",
        "display(averaged_lst_per_pixel_per_city.head())"
      ],
      "metadata": {
        "id": "vzEHXqitpXpY"
      },
      "execution_count": null,
      "outputs": []
    },
    {
      "cell_type": "code",
      "source": [
        "# Gdf 2019-2024 speichern\n",
        "\n",
        "# Definieren Sie den Pfad zum Speichern der Datei in Google Drive\n",
        "# Passen Sie den Ordner und Dateinamen bei Bedarf an\n",
        "output_path_averaged_gdf = \"/content/drive/MyDrive/Cold Spots Bayern/averaged_lst_per_pixel_per_city_allyears.geojson\"\n",
        "\n",
        "try:\n",
        "    # Speichern als GeoJSON-Datei\n",
        "    averaged_lst_per_pixel_per_city.to_file(output_path_averaged_gdf, driver='GeoJSON')\n",
        "    print(f\"GeoDataFrame mit gemittelten LST-Werten erfolgreich gespeichert unter: {output_path_averaged_gdf}\")\n",
        "except Exception as e:\n",
        "    print(f\"Fehler beim Speichern des GeoDataFrames: {e}\")"
      ],
      "metadata": {
        "id": "6CIdCbiVpXnP"
      },
      "execution_count": null,
      "outputs": []
    },
    {
      "cell_type": "code",
      "source": [
        "# 2. Geodataframe für 2024 erstellen\n",
        "\n",
        "# Filter the geodataframe for the year 2024\n",
        "gdf_2024 = all_cities_summer_avg_lst_per_pixel[all_cities_summer_avg_lst_per_pixel['year'] == 2024].copy()\n",
        "\n",
        "print(gdf_2024.head())"
      ],
      "metadata": {
        "id": "HC56M9o_pJpT"
      },
      "execution_count": null,
      "outputs": []
    },
    {
      "cell_type": "code",
      "source": [
        "# gdf 2024 speichern\n",
        "\n",
        "output_path = \"/content/drive/MyDrive/Cold Spots Bayern/lst_2024_allcities.geojson\"\n",
        "gdf_2024.to_file(output_path, driver='GeoJSON')\n",
        "\n",
        "print(f\"Geodataframe 'gdf_2024' erfolgreich gespeichert als: {output_path}\")"
      ],
      "metadata": {
        "id": "5euSrlqVqVdC"
      },
      "execution_count": null,
      "outputs": []
    },
    {
      "cell_type": "markdown",
      "source": [
        "output: mit den geojson Dateien \"lst_2024_allcities.geojson\" und \"averaged_lst_per_pixel_per_city_allyears.geojson\" kann jetzt weitergearbeitet werden\n",
        "\n",
        "nächste Schritte: Cold Spots berechnen mittels KNN und Gi* Algorithmus"
      ],
      "metadata": {
        "id": "pU_QMlQvq0g2"
      }
    },
    {
      "cell_type": "markdown",
      "source": [
        "### Visualisierung der LST-Verteilung pro Stadt auf Karte"
      ],
      "metadata": {
        "id": "BssjlwF3sbvE"
      }
    },
    {
      "cell_type": "code",
      "source": [
        "import geopandas as gpd\n",
        "import matplotlib.pyplot as plt\n",
        "from matplotlib.colors import LinearSegmentedColormap"
      ],
      "metadata": {
        "id": "ZQnR8Jeasksp"
      },
      "execution_count": null,
      "outputs": []
    },
    {
      "cell_type": "code",
      "source": [
        "# 2019-2024 Durschnittsdaten laden und visualisieren\n",
        "\n",
        "file_path = \"/content/drive/MyDrive/Cold Spots Bayern/averaged_lst_per_pixel_per_city_allyears.geojson\"\n",
        "lst_data = gpd.read_file(file_path)\n",
        "display(lst_data.head())\n",
        ""
      ],
      "metadata": {
        "id": "vyb-mkxxseqM"
      },
      "execution_count": null,
      "outputs": []
    },
    {
      "cell_type": "code",
      "source": [
        "# Daten nach Städten aufteilen\n",
        "\n",
        "# Check unique cities\n",
        "unique_cities = lst_data['city'].unique()\n",
        "print(f\"Found data for the following cities: {unique_cities}\")\n",
        "\n",
        "# Create a dictionary to hold GeoDataFrames for each city\n",
        "city_lst_gdfs = {}\n",
        "for city in unique_cities:\n",
        "    city_lst_gdfs[city] = lst_data[lst_data['city'] == city].copy()\n",
        "    print(f\"Created GeoDataFrame for {city} with {len(city_lst_gdfs[city])} features.\")\n",
        "\n",
        "# Visualisierung für jede Stadt\n",
        "\n",
        "cmap_cold_hot = LinearSegmentedColormap.from_list(\"cold_to_hot\", [\"blue\", \"cyan\", \"yellow\", \"red\"])\n",
        "\n",
        "\n",
        "print(\"\\nGenerating maps for each city...\")\n",
        "\n",
        "for city, gdf in city_lst_gdfs.items():\n",
        "    if not gdf.empty:\n",
        "        fig, ax = plt.subplots(1, 1, figsize=(10, 10))\n",
        "        # Plot the data, mapping 'avg_summer_LST_Celsius' to color\n",
        "        # Use the custom colormap and add a colorbar\n",
        "        gdf.plot(column='avg_summer_LST_Celsius', ax=ax, legend=True,\n",
        "                 cmap=cmap_cold_hot,\n",
        "                 legend_kwds={'label': \"Average Summer LST (°C)\",\n",
        "                              'orientation': \"horizontal\"})\n",
        "\n",
        "        ax.set_title(f'Average Summer LST for {city}')\n",
        "        ax.set_axis_off()\n",
        "        #plt.show() # unkommentieren, dann werden Karten angezeigt\n",
        "    else:\n",
        "        print(f\"No data to plot for {city}. Skipping map generation.\")\n",
        "\n",
        "print(\"\\nMap generation complete.\")\n"
      ],
      "metadata": {
        "id": "ZYb7qbGAslil"
      },
      "execution_count": null,
      "outputs": []
    }
  ]
}